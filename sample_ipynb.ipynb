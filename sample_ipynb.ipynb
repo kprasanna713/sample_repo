{
 "cells": [
  {
   "cell_type": "markdown",
   "id": "7aaa157d",
   "metadata": {},
   "source": [
    "### Basics Of Python"
   ]
  },
  {
   "cell_type": "markdown",
   "id": "6a5b8143",
   "metadata": {},
   "source": [
    "#### Print Hello World"
   ]
  },
  {
   "cell_type": "code",
   "execution_count": 12,
   "id": "ac851c9b",
   "metadata": {
    "scrolled": true
   },
   "outputs": [
    {
     "name": "stdout",
     "output_type": "stream",
     "text": [
      "prasanna kumar\n"
     ]
    }
   ],
   "source": [
    "print(\"prasanna kumar\")"
   ]
  },
  {
   "cell_type": "markdown",
   "id": "1c972df2",
   "metadata": {},
   "source": [
    "### VARIABLES"
   ]
  },
  {
   "cell_type": "code",
   "execution_count": 15,
   "id": "8b5089fa",
   "metadata": {},
   "outputs": [
    {
     "data": {
      "text/plain": [
       "10"
      ]
     },
     "execution_count": 15,
     "metadata": {},
     "output_type": "execute_result"
    }
   ],
   "source": [
    "x=10\n",
    "x"
   ]
  },
  {
   "cell_type": "code",
   "execution_count": 16,
   "id": "75e9c857",
   "metadata": {},
   "outputs": [
    {
     "name": "stdout",
     "output_type": "stream",
     "text": [
      "10\n"
     ]
    }
   ],
   "source": [
    "print(x)"
   ]
  },
  {
   "cell_type": "code",
   "execution_count": 17,
   "id": "60febfd7",
   "metadata": {},
   "outputs": [
    {
     "data": {
      "text/plain": [
       "100"
      ]
     },
     "execution_count": 17,
     "metadata": {},
     "output_type": "execute_result"
    }
   ],
   "source": [
    "y=100\n",
    "y"
   ]
  },
  {
   "cell_type": "code",
   "execution_count": 30,
   "id": "b59e18b8",
   "metadata": {},
   "outputs": [],
   "source": [
    "name=\"Prasanna\"\n",
    "gender=\"Male\"\n",
    "Experience=2"
   ]
  },
  {
   "cell_type": "code",
   "execution_count": 31,
   "id": "8192486d",
   "metadata": {},
   "outputs": [
    {
     "data": {
      "text/plain": [
       "'Male'"
      ]
     },
     "execution_count": 31,
     "metadata": {},
     "output_type": "execute_result"
    }
   ],
   "source": [
    "name\n",
    "Experience\n",
    "gender"
   ]
  },
  {
   "cell_type": "code",
   "execution_count": 32,
   "id": "c8455a45",
   "metadata": {},
   "outputs": [
    {
     "name": "stdout",
     "output_type": "stream",
     "text": [
      "Prasanna\n",
      "Male\n",
      "2\n"
     ]
    }
   ],
   "source": [
    "print(name)\n",
    "print(gender)\n",
    "print(Experience)"
   ]
  },
  {
   "cell_type": "code",
   "execution_count": null,
   "id": "7f63eb5a",
   "metadata": {},
   "outputs": [],
   "source": [
    "Gender ### Case-Sensitive"
   ]
  },
  {
   "cell_type": "code",
   "execution_count": 33,
   "id": "36bfcb74",
   "metadata": {},
   "outputs": [
    {
     "data": {
      "text/plain": [
       "'Male'"
      ]
     },
     "execution_count": 33,
     "metadata": {},
     "output_type": "execute_result"
    }
   ],
   "source": [
    "gender"
   ]
  },
  {
   "cell_type": "code",
   "execution_count": 25,
   "id": "06f07e21",
   "metadata": {},
   "outputs": [
    {
     "data": {
      "text/plain": [
       "16"
      ]
     },
     "execution_count": 25,
     "metadata": {},
     "output_type": "execute_result"
    }
   ],
   "source": [
    "y=16\n",
    "x=\"prasanna\"\n",
    "x\n",
    "y"
   ]
  },
  {
   "cell_type": "code",
   "execution_count": 26,
   "id": "96b0d801",
   "metadata": {},
   "outputs": [
    {
     "data": {
      "text/plain": [
       "('prasanna', 16)"
      ]
     },
     "execution_count": 26,
     "metadata": {},
     "output_type": "execute_result"
    }
   ],
   "source": [
    "x,y"
   ]
  },
  {
   "cell_type": "code",
   "execution_count": 27,
   "id": "047c2191",
   "metadata": {},
   "outputs": [
    {
     "data": {
      "text/plain": [
       "(16, 'prasanna')"
      ]
     },
     "execution_count": 27,
     "metadata": {},
     "output_type": "execute_result"
    }
   ],
   "source": [
    "y,x"
   ]
  },
  {
   "cell_type": "code",
   "execution_count": 28,
   "id": "a553138a",
   "metadata": {},
   "outputs": [
    {
     "name": "stdout",
     "output_type": "stream",
     "text": [
      "prasanna 16\n"
     ]
    }
   ],
   "source": [
    "print(x,y)"
   ]
  },
  {
   "cell_type": "code",
   "execution_count": 29,
   "id": "27f8ee6c",
   "metadata": {},
   "outputs": [
    {
     "data": {
      "text/plain": [
       "16"
      ]
     },
     "execution_count": 29,
     "metadata": {},
     "output_type": "execute_result"
    }
   ],
   "source": [
    "z=y\n",
    "z"
   ]
  },
  {
   "cell_type": "code",
   "execution_count": 34,
   "id": "0b3b1eb2",
   "metadata": {},
   "outputs": [
    {
     "data": {
      "text/plain": [
       "16"
      ]
     },
     "execution_count": 34,
     "metadata": {},
     "output_type": "execute_result"
    }
   ],
   "source": [
    "y"
   ]
  },
  {
   "cell_type": "code",
   "execution_count": 35,
   "id": "bf362dc2",
   "metadata": {},
   "outputs": [
    {
     "name": "stdout",
     "output_type": "stream",
     "text": [
      "test\n"
     ]
    }
   ],
   "source": [
    "x=y=z=\"test\"\n",
    "print(z)"
   ]
  },
  {
   "cell_type": "code",
   "execution_count": 36,
   "id": "6c8a4e17",
   "metadata": {},
   "outputs": [
    {
     "data": {
      "text/plain": [
       "24"
      ]
     },
     "execution_count": 36,
     "metadata": {},
     "output_type": "execute_result"
    }
   ],
   "source": [
    "x,y,z=24,21,12\n",
    "x"
   ]
  },
  {
   "cell_type": "code",
   "execution_count": 37,
   "id": "f9c500bb",
   "metadata": {},
   "outputs": [
    {
     "data": {
      "text/plain": [
       "21"
      ]
     },
     "execution_count": 37,
     "metadata": {},
     "output_type": "execute_result"
    }
   ],
   "source": [
    "y"
   ]
  },
  {
   "cell_type": "code",
   "execution_count": 38,
   "id": "bd19bbb0",
   "metadata": {},
   "outputs": [
    {
     "data": {
      "text/plain": [
       "12"
      ]
     },
     "execution_count": 38,
     "metadata": {},
     "output_type": "execute_result"
    }
   ],
   "source": [
    "z"
   ]
  },
  {
   "cell_type": "markdown",
   "id": "ae7e03c0",
   "metadata": {},
   "source": [
    "### Rules for naming the Variables"
   ]
  },
  {
   "cell_type": "markdown",
   "id": "362d1b59",
   "metadata": {},
   "source": [
    "### Variable can have alphabets[A-Z,a-z]"
   ]
  },
  {
   "cell_type": "markdown",
   "id": "928d7597",
   "metadata": {},
   "source": [
    "### Variable name should not start with a number"
   ]
  },
  {
   "cell_type": "markdown",
   "id": "57f5d2bf",
   "metadata": {},
   "source": [
    "### Variables do not allow special characters other than underscore"
   ]
  },
  {
   "cell_type": "markdown",
   "id": "ae0aa03b",
   "metadata": {},
   "source": [
    "### Case sensitive"
   ]
  },
  {
   "cell_type": "code",
   "execution_count": 39,
   "id": "a7775e70",
   "metadata": {},
   "outputs": [
    {
     "data": {
      "text/plain": [
       "['DS with Python', 'BA with Python']"
      ]
     },
     "execution_count": 39,
     "metadata": {},
     "output_type": "execute_result"
    }
   ],
   "source": [
    "Books=[\"DS with Python\", \"BA with Python\"]\n",
    "Books"
   ]
  },
  {
   "cell_type": "code",
   "execution_count": 41,
   "id": "9ef1c361",
   "metadata": {},
   "outputs": [
    {
     "ename": "NameError",
     "evalue": "name 'books' is not defined",
     "output_type": "error",
     "traceback": [
      "\u001b[1;31m---------------------------------------------------------------------------\u001b[0m",
      "\u001b[1;31mNameError\u001b[0m                                 Traceback (most recent call last)",
      "Input \u001b[1;32mIn [41]\u001b[0m, in \u001b[0;36m<cell line: 1>\u001b[1;34m()\u001b[0m\n\u001b[1;32m----> 1\u001b[0m \u001b[43mbooks\u001b[49m\n",
      "\u001b[1;31mNameError\u001b[0m: name 'books' is not defined"
     ]
    }
   ],
   "source": [
    "books"
   ]
  },
  {
   "cell_type": "code",
   "execution_count": 42,
   "id": "d5f19fd4",
   "metadata": {},
   "outputs": [
    {
     "ename": "SyntaxError",
     "evalue": "invalid syntax (3092342648.py, line 1)",
     "output_type": "error",
     "traceback": [
      "\u001b[1;36m  Input \u001b[1;32mIn [42]\u001b[1;36m\u001b[0m\n\u001b[1;33m    7books=[\"DS with Python\", \"BA with Python\"]\u001b[0m\n\u001b[1;37m     ^\u001b[0m\n\u001b[1;31mSyntaxError\u001b[0m\u001b[1;31m:\u001b[0m invalid syntax\n"
     ]
    }
   ],
   "source": [
    "7books=[\"DS with Python\", \"BA with Python\"]\n",
    "7books"
   ]
  },
  {
   "cell_type": "code",
   "execution_count": 43,
   "id": "c8676f99",
   "metadata": {},
   "outputs": [
    {
     "data": {
      "text/plain": [
       "['DS with Python', 'BA with Python']"
      ]
     },
     "execution_count": 43,
     "metadata": {},
     "output_type": "execute_result"
    }
   ],
   "source": [
    "b7ooks=[\"DS with Python\", \"BA with Python\"]\n",
    "b7ooks"
   ]
  },
  {
   "cell_type": "code",
   "execution_count": 44,
   "id": "bae48a8f",
   "metadata": {},
   "outputs": [
    {
     "ename": "SyntaxError",
     "evalue": "cannot assign to operator (3871118170.py, line 1)",
     "output_type": "error",
     "traceback": [
      "\u001b[1;36m  Input \u001b[1;32mIn [44]\u001b[1;36m\u001b[0m\n\u001b[1;33m    books*lists=[\"DS with Python\", \"BA with Python\"]\u001b[0m\n\u001b[1;37m    ^\u001b[0m\n\u001b[1;31mSyntaxError\u001b[0m\u001b[1;31m:\u001b[0m cannot assign to operator\n"
     ]
    }
   ],
   "source": [
    "books*lists=[\"DS with Python\", \"BA with Python\"]\n",
    "books*lists"
   ]
  },
  {
   "cell_type": "code",
   "execution_count": 46,
   "id": "cce9c46f",
   "metadata": {},
   "outputs": [
    {
     "data": {
      "text/plain": [
       "['DS with Python', 'BA with Python']"
      ]
     },
     "execution_count": 46,
     "metadata": {},
     "output_type": "execute_result"
    }
   ],
   "source": [
    "books_lists=[\"DS with Python\", \"BA with Python\"]\n",
    "books_lists"
   ]
  },
  {
   "cell_type": "code",
   "execution_count": 47,
   "id": "5aa864e8",
   "metadata": {},
   "outputs": [
    {
     "ename": "SyntaxError",
     "evalue": "invalid syntax (1949903290.py, line 1)",
     "output_type": "error",
     "traceback": [
      "\u001b[1;36m  Input \u001b[1;32mIn [47]\u001b[1;36m\u001b[0m\n\u001b[1;33m    book names=\"python\", \"R\"\u001b[0m\n\u001b[1;37m         ^\u001b[0m\n\u001b[1;31mSyntaxError\u001b[0m\u001b[1;31m:\u001b[0m invalid syntax\n"
     ]
    }
   ],
   "source": [
    "book names=\"python\",\"R\""
   ]
  },
  {
   "cell_type": "markdown",
   "id": "63b7ddd2",
   "metadata": {},
   "source": [
    "### Rules for naming Variables"
   ]
  },
  {
   "cell_type": "markdown",
   "id": "16f2666d",
   "metadata": {},
   "source": [
    "### Case-Sensitive"
   ]
  },
  {
   "cell_type": "markdown",
   "id": "36fcbf32",
   "metadata": {},
   "source": [
    "### It should start with A-Z,a-z or_"
   ]
  },
  {
   "cell_type": "markdown",
   "id": "61597adb",
   "metadata": {},
   "source": [
    "### It should not start with a number but it can have numbers"
   ]
  },
  {
   "cell_type": "markdown",
   "id": "110b15e4",
   "metadata": {},
   "source": [
    "### Space is not allowed"
   ]
  },
  {
   "cell_type": "code",
   "execution_count": 48,
   "id": "b785e3ea",
   "metadata": {},
   "outputs": [
    {
     "ename": "NameError",
     "evalue": "name 'time' is not defined",
     "output_type": "error",
     "traceback": [
      "\u001b[1;31m---------------------------------------------------------------------------\u001b[0m",
      "\u001b[1;31mNameError\u001b[0m                                 Traceback (most recent call last)",
      "Input \u001b[1;32mIn [48]\u001b[0m, in \u001b[0;36m<cell line: 3>\u001b[1;34m()\u001b[0m\n\u001b[0;32m      1\u001b[0m \u001b[38;5;66;03m### Data Types\u001b[39;00m\n\u001b[0;32m      2\u001b[0m x\u001b[38;5;241m=\u001b[39m\u001b[38;5;241m107\u001b[39m\n\u001b[1;32m----> 3\u001b[0m \u001b[43mtime\u001b[49m(x)\n",
      "\u001b[1;31mNameError\u001b[0m: name 'time' is not defined"
     ]
    }
   ],
   "source": [
    "### Data Types\n",
    "x=107\n",
    "time(x)"
   ]
  },
  {
   "cell_type": "code",
   "execution_count": null,
   "id": "b021fafa",
   "metadata": {},
   "outputs": [],
   "source": []
  }
 ],
 "metadata": {
  "kernelspec": {
   "display_name": "Python 3 (ipykernel)",
   "language": "python",
   "name": "python3"
  },
  "language_info": {
   "codemirror_mode": {
    "name": "ipython",
    "version": 3
   },
   "file_extension": ".py",
   "mimetype": "text/x-python",
   "name": "python",
   "nbconvert_exporter": "python",
   "pygments_lexer": "ipython3",
   "version": "3.9.12"
  }
 },
 "nbformat": 4,
 "nbformat_minor": 5
}
